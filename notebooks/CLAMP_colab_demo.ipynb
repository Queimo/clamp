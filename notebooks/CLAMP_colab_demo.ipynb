{
 "cells": [
  {
   "attachments": {},
   "cell_type": "markdown",
   "metadata": {},
   "source": [
    "# 🗜 CLAMP demo\n",
    "\n",
    "This notebook shows how to run a pretrained CLAMP model or train one yourself."
   ]
  },
  {
   "cell_type": "code",
   "execution_count": 1,
   "metadata": {},
   "outputs": [
    {
     "name": "stdout",
     "output_type": "stream",
     "text": [
      "/system/user/publicwork/seidl/projects/projects/clamp\n"
     ]
    }
   ],
   "source": [
    "%cd .."
   ]
  },
  {
   "cell_type": "code",
   "execution_count": 2,
   "metadata": {},
   "outputs": [
    {
     "data": {
      "text/plain": [
       "PretrainedCLAMP(\n",
       "  (compound_encoder): NetworkLayerNorm(\n",
       "    (linear_input): Linear(in_features=8192, out_features=4096, bias=True)\n",
       "    (linear_hidden_l): ModuleList(\n",
       "      (0): Linear(in_features=4096, out_features=2048, bias=True)\n",
       "    )\n",
       "    (linear_output): Linear(in_features=2048, out_features=768, bias=True)\n",
       "    (normalization_input): LayerNorm((4096,), eps=1e-05, elementwise_affine=False)\n",
       "    (normalization_hidden_l): ModuleList(\n",
       "      (0): LayerNorm((2048,), eps=1e-05, elementwise_affine=False)\n",
       "    )\n",
       "    (nonlinearity): ReLU()\n",
       "    (dropout_input): Dropout(p=0.1, inplace=False)\n",
       "    (dropout_hidden): Dropout(p=0.2, inplace=False)\n",
       "  )\n",
       "  (assay_encoder): NetworkLayerNorm(\n",
       "    (linear_input): Linear(in_features=512, out_features=4096, bias=True)\n",
       "    (linear_hidden_l): ModuleList(\n",
       "      (0): Linear(in_features=4096, out_features=2048, bias=True)\n",
       "    )\n",
       "    (linear_output): Linear(in_features=2048, out_features=768, bias=True)\n",
       "    (normalization_input): LayerNorm((4096,), eps=1e-05, elementwise_affine=False)\n",
       "    (normalization_hidden_l): ModuleList(\n",
       "      (0): LayerNorm((2048,), eps=1e-05, elementwise_affine=False)\n",
       "    )\n",
       "    (nonlinearity): ReLU()\n",
       "    (dropout_input): Dropout(p=0.1, inplace=False)\n",
       "    (dropout_hidden): Dropout(p=0.2, inplace=False)\n",
       "  )\n",
       ")"
      ]
     },
     "execution_count": 2,
     "metadata": {},
     "output_type": "execute_result"
    }
   ],
   "source": [
    "import torch\n",
    "import clamp\n",
    "\n",
    "model = clamp.CLAMP(device='cpu')\n",
    "model.eval()\n",
    "\n",
    "model"
   ]
  },
  {
   "cell_type": "code",
   "execution_count": 3,
   "metadata": {},
   "outputs": [
    {
     "data": {
      "text/plain": [
       "torch.Size([1, 8192])"
      ]
     },
     "execution_count": 3,
     "metadata": {},
     "output_type": "execute_result"
    }
   ],
   "source": [
    "model.encode_smiles(['CCC']).shape"
   ]
  },
  {
   "cell_type": "code",
   "execution_count": 4,
   "metadata": {},
   "outputs": [
    {
     "name": "stdout",
     "output_type": "stream",
     "text": [
      "Mol probs for assay: [0.2677869  0.28258166 0.22538778 0.22424364]\n"
     ]
    }
   ],
   "source": [
    "molecules = [\n",
    "    'CC1=CC(=NN1C2=CC3=CC=CC=C3C=C2)OCCN4CCOCC4', #CID 44247568\n",
    "    'CC1=CC2=C(S1)NC3=CC=CC=C3N=C2N4CCN(CC4)C', #CID 135398745\n",
    "    'CC(=O)OC1=CC=CC=C1C(=O)O', # aspirin\n",
    "    'C=CC(=O)N', # acrylamide\n",
    "    ]\n",
    "assay_descriptions = [\n",
    "    'Inflammation reduction in humans',\n",
    "    ]\n",
    "\n",
    "with torch.no_grad():\n",
    "    logits = model.forward_dense(molecules, assay_descriptions)\n",
    "    probs = logits.softmax(dim=0).cpu().numpy() # probs for molecules\n",
    "\n",
    "print(\"Mol probs for assay:\", probs[:,0]) #[0.2677869  0.28258166 0.22538778 0.22424364]"
   ]
  },
  {
   "cell_type": "code",
   "execution_count": 5,
   "metadata": {},
   "outputs": [
    {
     "data": {
      "text/plain": [
       "(4, 768)"
      ]
     },
     "execution_count": 5,
     "metadata": {},
     "output_type": "execute_result"
    }
   ],
   "source": [
    "# to get the molecule encoding\n",
    "mol_encodings = model.compound_encoder(model.encode_smiles(molecules)).detach().cpu().numpy()\n",
    "mol_encodings.shape"
   ]
  },
  {
   "cell_type": "code",
   "execution_count": 6,
   "metadata": {},
   "outputs": [],
   "source": [
    "# load hiv dataset\n",
    "import pandas as pd\n",
    "activity_df = pd.read_parquet('./data/downstream/hiv/activity.parquet')\n",
    "smiles_df = pd.read_parquet('./data/downstream/hiv/compound_smiles.parquet')\n",
    "assay_df = pd.read_parquet('./data/downstream/hiv/assay_names.parquet')"
   ]
  },
  {
   "cell_type": "code",
   "execution_count": 7,
   "metadata": {},
   "outputs": [],
   "source": [
    "molecules = smiles_df.CanonicalSMILES\n",
    "#mol_encodings = model.compound_encoder(model.encode_smiles(molecules)).detach().cpu().numpy()"
   ]
  },
  {
   "cell_type": "code",
   "execution_count": 8,
   "metadata": {},
   "outputs": [
    {
     "data": {
      "text/plain": [
       "0                               CCOP(=O)(Nc1cccc(Cl)c1)OCC\n",
       "1                                          O=C(O)c1ccccc1O\n",
       "2                                      CCOP(N)(=O)c1ccccc1\n",
       "3                                      NNP(=S)(NN)c1ccccc1\n",
       "4                                  Nc1c(Cl)cc(Cl)cc1C(=O)O\n",
       "                               ...                        \n",
       "41122                   O=P(Nc1ccccc1)(Nc1ccccc1)Nc1ccccc1\n",
       "41123                CC1=C2C(=COC(C)C2C)C(O)=C(C(=O)O)C1=O\n",
       "41124                     CC(=O)N1c2ccccc2Sc2c1ccc1ccccc21\n",
       "41125    C(=Cc1ccccc1)C1=[O+][Cu-3]2([O+]=C(C=Cc3ccccc3...\n",
       "41126    CCC1=[O+][Cu-3]2([O+]=C(CC)C1)[O+]=C(CC)CC(CC)...\n",
       "Name: CanonicalSMILES, Length: 41127, dtype: object"
      ]
     },
     "execution_count": 8,
     "metadata": {},
     "output_type": "execute_result"
    }
   ],
   "source": [
    "smiles_df.CanonicalSMILES"
   ]
  },
  {
   "cell_type": "code",
   "execution_count": 9,
   "metadata": {},
   "outputs": [
    {
     "data": {
      "text/plain": [
       "array([' HIV. The HIV dataset was introduced by the Drug Therapeutics Program (DTP) AIDS Antiviral Screen, which tested the ability to inhibit HIV replication for over 40[thin space (1/6-em)]000 compounds.47 Screening results were evaluated and placed into three categories: confirmed inactive (CI), confirmed active (CA) and confirmed moderately active (CM). We further combine the latter two labels, making it a classification task between inactive (CI) and active (CA and CM). As we are more interested in discover new categories of HIV inhibitors, scaffold splitting (introduced in the next subsection) is recommended for this dataset.'],\n",
       "      dtype=object)"
      ]
     },
     "execution_count": 9,
     "metadata": {},
     "output_type": "execute_result"
    }
   ],
   "source": [
    "assay_df.molnet_paper_description.values"
   ]
  },
  {
   "cell_type": "code",
   "execution_count": 10,
   "metadata": {},
   "outputs": [
    {
     "name": "stdout",
     "output_type": "stream",
     "text": [
      "Mol probs for assay: [0.2582146  0.23540357 0.26953387 0.236848  ]\n"
     ]
    }
   ],
   "source": [
    "import torch\n",
    "import clamp\n",
    "\n",
    "model = clamp.CLAMP(device='cpu')\n",
    "model.eval()\n",
    "\n",
    "molecules = [\n",
    "    'CCOP(=O)(Nc1cccc(Cl)c1)OCC', #inactive\n",
    "    'O=C(O)c1ccccc1O', #inactive\n",
    "    'NNP(=S)(NN)c1ccccc1', #active\n",
    "    'CC(=O)OC1=CC=CC=C1C(=O)O', # Aspirin\n",
    " #   'C'*100\n",
    "    ]\n",
    "assay_descriptions = [\n",
    "    'HIV: Experimentally measured abilities to inhibit HIV replication.',\n",
    "    ]\n",
    "\n",
    "with torch.no_grad():\n",
    "    logits = model.forward_dense(molecules, assay_descriptions)\n",
    "    probs = logits.softmax(dim=0).cpu().numpy() # probs for molecules\n",
    "\n",
    "print(\"Mol probs for assay:\", probs[:,0])"
   ]
  }
 ],
 "metadata": {
  "kernelspec": {
   "display_name": "clamp_env",
   "language": "python",
   "name": "python3"
  },
  "language_info": {
   "codemirror_mode": {
    "name": "ipython",
    "version": 3
   },
   "file_extension": ".py",
   "mimetype": "text/x-python",
   "name": "python",
   "nbconvert_exporter": "python",
   "pygments_lexer": "ipython3",
   "version": "3.8.0"
  },
  "orig_nbformat": 4,
  "vscode": {
   "interpreter": {
    "hash": "5c192e61fe9506a9406d77c2fedf8ea1b0aa0310e53c5f6b958a9398d70e1396"
   }
  }
 },
 "nbformat": 4,
 "nbformat_minor": 2
}
